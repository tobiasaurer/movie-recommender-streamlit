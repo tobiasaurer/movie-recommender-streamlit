{
 "cells": [
  {
   "cell_type": "code",
   "execution_count": 1,
   "metadata": {},
   "outputs": [],
   "source": [
    "import pandas as pd\n",
    "from sklearn.metrics.pairwise import cosine_similarity\n",
    "import re"
   ]
  },
  {
   "cell_type": "markdown",
   "metadata": {},
   "source": [
    "# Data Preparation"
   ]
  },
  {
   "cell_type": "code",
   "execution_count": 50,
   "metadata": {},
   "outputs": [],
   "source": [
    "# import data\n",
    "movies =    pd.read_csv('data/movies.csv')\n",
    "links =     pd.read_csv('data/links.csv')\n",
    "ratings =   pd.read_csv('data/ratings.csv')\n",
    "tags =      pd.read_csv('data/tags.csv')\n",
    "\n",
    "# clean titles column by moving \"The\" to the beginning of the string\n",
    "# # this makes it more searchable for users\n",
    "movies.loc[lambda df: df[\"title\"].str.contains(\", The\", regex=True), 'title'] = 'The ' + movies['title']\n",
    "movies.loc[lambda df: df[\"title\"].str.contains(\", The\", regex=True), 'title'] = movies['title'].str.replace(\", The\", '', regex=True)"
   ]
  },
  {
   "cell_type": "markdown",
   "metadata": {},
   "source": [
    "# Popularity-Based Recommender"
   ]
  },
  {
   "cell_type": "code",
   "execution_count": 27,
   "metadata": {},
   "outputs": [],
   "source": [
    "def get_popular_recommendations(n, genres):\n",
    "    return (\n",
    "        ratings\n",
    "            .groupby('movieId')\n",
    "            .agg(avg_rating = ('rating', 'mean'), num_ratings = ('rating', 'count'))\n",
    "            .merge(movies, on='movieId')\n",
    "            .assign(combined_rating = lambda x: x['avg_rating'] * x['num_ratings']**0.5)\n",
    "            [lambda df: df[\"genres\"].str.contains(genres, regex=True)]\n",
    "            .sort_values('combined_rating', ascending=False)\n",
    "            .head(n)\n",
    "            [['title', 'avg_rating', 'num_ratings', 'genres']]\n",
    "    )"
   ]
  },
  {
   "cell_type": "code",
   "execution_count": 28,
   "metadata": {},
   "outputs": [],
   "source": [
    "def transform_genre_to_regex(genres):\n",
    "    regex = \"\"\n",
    "    index = 0\n",
    "    for genre in genres:\n",
    "        regex += f\"(?=.*{genre})\"\n",
    "\n",
    "    return regex"
   ]
  },
  {
   "cell_type": "code",
   "execution_count": 29,
   "metadata": {},
   "outputs": [],
   "source": [
    "genres = ['Action', 'Drama', 'Comedy']"
   ]
  },
  {
   "cell_type": "code",
   "execution_count": 30,
   "metadata": {},
   "outputs": [
    {
     "data": {
      "text/html": [
       "<div>\n",
       "<style scoped>\n",
       "    .dataframe tbody tr th:only-of-type {\n",
       "        vertical-align: middle;\n",
       "    }\n",
       "\n",
       "    .dataframe tbody tr th {\n",
       "        vertical-align: top;\n",
       "    }\n",
       "\n",
       "    .dataframe thead th {\n",
       "        text-align: right;\n",
       "    }\n",
       "</style>\n",
       "<table border=\"1\" class=\"dataframe\">\n",
       "  <thead>\n",
       "    <tr style=\"text-align: right;\">\n",
       "      <th></th>\n",
       "      <th>title</th>\n",
       "      <th>avg_rating</th>\n",
       "      <th>num_ratings</th>\n",
       "      <th>genres</th>\n",
       "    </tr>\n",
       "  </thead>\n",
       "  <tbody>\n",
       "    <tr>\n",
       "      <th>1474</th>\n",
       "      <td>Lethal Weapon (1987)</td>\n",
       "      <td>3.673333</td>\n",
       "      <td>75</td>\n",
       "      <td>Action|Comedy|Crime|Drama</td>\n",
       "    </tr>\n",
       "    <tr>\n",
       "      <th>2173</th>\n",
       "      <td>Three Kings (1999)</td>\n",
       "      <td>3.711111</td>\n",
       "      <td>45</td>\n",
       "      <td>Action|Adventure|Comedy|Drama|War</td>\n",
       "    </tr>\n",
       "    <tr>\n",
       "      <th>1075</th>\n",
       "      <td>Sneakers (1992)</td>\n",
       "      <td>3.478261</td>\n",
       "      <td>46</td>\n",
       "      <td>Action|Comedy|Crime|Drama|Sci-Fi</td>\n",
       "    </tr>\n",
       "    <tr>\n",
       "      <th>118</th>\n",
       "      <td>Bad Boys (1995)</td>\n",
       "      <td>3.245098</td>\n",
       "      <td>51</td>\n",
       "      <td>Action|Comedy|Crime|Drama|Thriller</td>\n",
       "    </tr>\n",
       "    <tr>\n",
       "      <th>3047</th>\n",
       "      <td>Beverly Hills Cop (1984)</td>\n",
       "      <td>3.402174</td>\n",
       "      <td>46</td>\n",
       "      <td>Action|Comedy|Crime|Drama</td>\n",
       "    </tr>\n",
       "    <tr>\n",
       "      <th>1475</th>\n",
       "      <td>Lethal Weapon 2 (1989)</td>\n",
       "      <td>3.180851</td>\n",
       "      <td>47</td>\n",
       "      <td>Action|Comedy|Crime|Drama</td>\n",
       "    </tr>\n",
       "    <tr>\n",
       "      <th>1476</th>\n",
       "      <td>Lethal Weapon 3 (1992)</td>\n",
       "      <td>2.934783</td>\n",
       "      <td>46</td>\n",
       "      <td>Action|Comedy|Crime|Drama</td>\n",
       "    </tr>\n",
       "    <tr>\n",
       "      <th>5158</th>\n",
       "      <td>The Blind Swordsman: Zatoichi (Zatôichi) (2003)</td>\n",
       "      <td>3.958333</td>\n",
       "      <td>12</td>\n",
       "      <td>Action|Comedy|Crime|Drama</td>\n",
       "    </tr>\n",
       "    <tr>\n",
       "      <th>3662</th>\n",
       "      <td>48 Hrs. (1982)</td>\n",
       "      <td>3.590909</td>\n",
       "      <td>11</td>\n",
       "      <td>Action|Comedy|Crime|Drama</td>\n",
       "    </tr>\n",
       "    <tr>\n",
       "      <th>7109</th>\n",
       "      <td>The Men Who Stare at Goats (2009)</td>\n",
       "      <td>3.388889</td>\n",
       "      <td>9</td>\n",
       "      <td>Action|Comedy|Drama</td>\n",
       "    </tr>\n",
       "  </tbody>\n",
       "</table>\n",
       "</div>"
      ],
      "text/plain": [
       "                                                title  avg_rating  \\\n",
       "1474                             Lethal Weapon (1987)    3.673333   \n",
       "2173                               Three Kings (1999)    3.711111   \n",
       "1075                                  Sneakers (1992)    3.478261   \n",
       "118                                   Bad Boys (1995)    3.245098   \n",
       "3047                         Beverly Hills Cop (1984)    3.402174   \n",
       "1475                           Lethal Weapon 2 (1989)    3.180851   \n",
       "1476                           Lethal Weapon 3 (1992)    2.934783   \n",
       "5158  The Blind Swordsman: Zatoichi (Zatôichi) (2003)    3.958333   \n",
       "3662                                   48 Hrs. (1982)    3.590909   \n",
       "7109                The Men Who Stare at Goats (2009)    3.388889   \n",
       "\n",
       "      num_ratings                              genres  \n",
       "1474           75           Action|Comedy|Crime|Drama  \n",
       "2173           45   Action|Adventure|Comedy|Drama|War  \n",
       "1075           46    Action|Comedy|Crime|Drama|Sci-Fi  \n",
       "118            51  Action|Comedy|Crime|Drama|Thriller  \n",
       "3047           46           Action|Comedy|Crime|Drama  \n",
       "1475           47           Action|Comedy|Crime|Drama  \n",
       "1476           46           Action|Comedy|Crime|Drama  \n",
       "5158           12           Action|Comedy|Crime|Drama  \n",
       "3662           11           Action|Comedy|Crime|Drama  \n",
       "7109            9                 Action|Comedy|Drama  "
      ]
     },
     "execution_count": 30,
     "metadata": {},
     "output_type": "execute_result"
    }
   ],
   "source": [
    "get_popular_recommendations(10, transform_genre_to_regex(genres))"
   ]
  },
  {
   "cell_type": "markdown",
   "metadata": {},
   "source": [
    "# Similarity-Based Recommender"
   ]
  },
  {
   "cell_type": "code",
   "execution_count": 51,
   "metadata": {},
   "outputs": [],
   "source": [
    "movie_user_matrix = (\n",
    "                ratings\n",
    "                    .merge(movies, on='movieId')[['title', 'rating', 'userId']]\n",
    "                    .pivot_table(index='title', columns='userId', values='rating')\n",
    "                    .fillna(0)\n",
    "                )\n",
    "similarities_movies = pd.DataFrame(cosine_similarity(movie_user_matrix),\n",
    "                                  index=movie_user_matrix.index,\n",
    "                                  columns=movie_user_matrix.index)"
   ]
  },
  {
   "cell_type": "code",
   "execution_count": 31,
   "metadata": {},
   "outputs": [],
   "source": [
    "def get_similar_recommendations(movie_title, n, genres):\n",
    "\n",
    "    # calculate similarity for chosen movie\n",
    "    similarities = pd.DataFrame(\n",
    "        (similarities_movies.query(\"index != @movie_title\")[movie_title] / sum(similarities_movies.query(\"index != @movie_title\")[movie_title]))\n",
    "        .sort_values(ascending= False))\n",
    "\n",
    "    # compute weighted averages and return the n movies with the highest predicted ratings\n",
    "    recommendations = (\n",
    "        similarities\n",
    "            .head(n)\n",
    "            .merge(movies, how= 'left', left_index = True, right_on = 'title')\n",
    "            [lambda df: df[\"genres\"].str.contains(genres, regex=True)]\n",
    "            .title)\n",
    "\n",
    "    return recommendations"
   ]
  },
  {
   "cell_type": "code",
   "execution_count": 111,
   "metadata": {},
   "outputs": [],
   "source": [
    "# calculate similarity for chosen movie\n",
    "similarities = pd.DataFrame(\n",
    "    (similarities_movies.query(\"index != @movie_title\")[movie_title] / sum(similarities_movies.query(\"index != @movie_title\")[movie_title]))\n",
    "    .sort_values(ascending= False))\n",
    "\n",
    "# compute weighted averages and return the n movies with the highest predicted ratings\n",
    "recommendations = (\n",
    "    similarities\n",
    "        .head(10)\n",
    "        .merge(movies, how= 'left', left_index = True, right_on = 'title')\n",
    "        [lambda df: df[\"genres\"].str.contains(genres, regex=True)]\n",
    "        [['title', 'genres']]\n",
    "        )\n"
   ]
  },
  {
   "cell_type": "code",
   "execution_count": 53,
   "metadata": {},
   "outputs": [],
   "source": [
    "movie_title = \"The King's Speech (2010)\" "
   ]
  },
  {
   "cell_type": "code",
   "execution_count": 56,
   "metadata": {},
   "outputs": [
    {
     "data": {
      "text/plain": [
       "7039                                            Up (2009)\n",
       "7665                                      The Help (2011)\n",
       "7214                               Sherlock Holmes (2009)\n",
       "7372                                     Inception (2010)\n",
       "7906                                         Brave (2012)\n",
       "4644                                 Love Actually (2003)\n",
       "8372                      The Grand Budapest Hotel (2014)\n",
       "8303                                        Frozen (2013)\n",
       "6772                                        WALL·E (2008)\n",
       "7644    Harry Potter and the Deathly Hallows: Part 2 (...\n",
       "Name: title, dtype: object"
      ]
     },
     "execution_count": 56,
     "metadata": {},
     "output_type": "execute_result"
    }
   ],
   "source": [
    "get_similar_recommendations(movie_title, 10, '')"
   ]
  },
  {
   "cell_type": "code",
   "execution_count": 125,
   "metadata": {},
   "outputs": [],
   "source": [
    "def find_movie_title(user_input):\n",
    "    title_list = movies.title.unique()\n",
    "    \n",
    "    r = re.compile(f\".*{user_input}.*\")\n",
    "    result = []\n",
    "\n",
    "    for title in title_list:\n",
    "        match = r.findall(title)\n",
    "        if match:\n",
    "            result.append(match)\n",
    "    \n",
    "    return result[0][0]"
   ]
  },
  {
   "cell_type": "code",
   "execution_count": 126,
   "metadata": {},
   "outputs": [
    {
     "data": {
      "text/plain": [
       "'Matrix, The (1999)'"
      ]
     },
     "execution_count": 126,
     "metadata": {},
     "output_type": "execute_result"
    }
   ],
   "source": [
    "find_movie_title('Matrix')"
   ]
  },
  {
   "cell_type": "markdown",
   "metadata": {},
   "source": [
    "# User-Based Recommender"
   ]
  },
  {
   "cell_type": "code",
   "execution_count": 8,
   "metadata": {},
   "outputs": [],
   "source": [
    "# create \"database\" to use for recommendations\n",
    "user_item_matrix = all_ratings_pivoted.fillna(0)\n",
    "\n",
    "similarities_users = pd.DataFrame(cosine_similarity(user_item_matrix),\n",
    "                                  index=user_item_matrix.index,\n",
    "                                  columns=user_item_matrix.index)"
   ]
  },
  {
   "cell_type": "code",
   "execution_count": 9,
   "metadata": {},
   "outputs": [],
   "source": [
    "def get_user_recommendations(user_id, n):\n",
    "    \n",
    "    # calculate weights for ratings\n",
    "    weights = similarities_users.query(\"index != @user_id\")[user_id] / sum(similarities_users.query(\"index != @user_id\")[user_id])\n",
    "\n",
    "    # get unwatched movies for recommendations\n",
    "    unwatched_movies = user_item_matrix.loc[user_item_matrix.index != user_id, user_item_matrix.loc[user_id,:] == 0].T\n",
    "\n",
    "    # compute weighted averages and return the n movies with the highest predicted ratings\n",
    "    weighted_averages = pd.DataFrame(unwatched_movies.dot(weights), columns = [\"predicted_rating\"])\n",
    "    recommendations = weighted_averages.sort_values(\"predicted_rating\", ascending=False).head(n).index\n",
    "\n",
    "    return recommendations"
   ]
  },
  {
   "cell_type": "code",
   "execution_count": 58,
   "metadata": {},
   "outputs": [
    {
     "data": {
      "text/plain": [
       "Index(['Forrest Gump (1994)', 'Silence of the Lambs, The (1991)',\n",
       "       'Jurassic Park (1993)', 'Seven (a.k.a. Se7en) (1995)', 'Speed (1994)',\n",
       "       'Twelve Monkeys (a.k.a. 12 Monkeys) (1995)',\n",
       "       'Die Hard: With a Vengeance (1995)',\n",
       "       'Star Wars: Episode IV - A New Hope (1977)', 'Matrix, The (1999)',\n",
       "       'Independence Day (a.k.a. ID4) (1996)'],\n",
       "      dtype='object', name='title')"
      ]
     },
     "execution_count": 58,
     "metadata": {},
     "output_type": "execute_result"
    }
   ],
   "source": [
    "get_user_recommendations(5, 10)"
   ]
  }
 ],
 "metadata": {
  "kernelspec": {
   "display_name": "Python 3.9.5",
   "language": "python",
   "name": "python3"
  },
  "language_info": {
   "codemirror_mode": {
    "name": "ipython",
    "version": 3
   },
   "file_extension": ".py",
   "mimetype": "text/x-python",
   "name": "python",
   "nbconvert_exporter": "python",
   "pygments_lexer": "ipython3",
   "version": "3.9.5"
  },
  "orig_nbformat": 4,
  "vscode": {
   "interpreter": {
    "hash": "f32269641e17bf27d9ca909c2404938da1b1b2df6b9d3f5a88a1b877c863c5b8"
   }
  }
 },
 "nbformat": 4,
 "nbformat_minor": 2
}
