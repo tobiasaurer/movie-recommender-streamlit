{
 "cells": [
  {
   "cell_type": "code",
   "execution_count": 6,
   "metadata": {},
   "outputs": [],
   "source": [
    "import pandas as pd\n",
    "from sklearn.metrics.pairwise import cosine_similarity\n",
    "import re\n",
    "import requests\n",
    "import json\n",
    "import api_keys"
   ]
  },
  {
   "cell_type": "markdown",
   "metadata": {},
   "source": [
    "# Data Preparation"
   ]
  },
  {
   "cell_type": "code",
   "execution_count": 35,
   "metadata": {},
   "outputs": [],
   "source": [
    "# import data\n",
    "movies =    pd.read_csv('data/movies.csv')\n",
    "links =     pd.read_csv('data/links.csv')\n",
    "ratings =   pd.read_csv('data/ratings.csv')\n",
    "tags =      pd.read_csv('data/tags.csv')\n",
    "\n",
    "# clean titles column by moving \"The\" and \"A\" to the beginning of the string\n",
    "# # this makes it more searchable for users\n",
    "movies.loc[lambda df: df[\"title\"].str.contains(\", The\", regex=True), 'title'] = 'The ' + movies['title']\n",
    "movies.loc[lambda df: df[\"title\"].str.contains(\", The\", regex=True), 'title'] = movies['title'].str.replace(\", The\", '', regex=True)\n",
    "\n",
    "movies.loc[lambda df: df[\"title\"].str.contains(\", A\", regex=True), 'title'] = 'A ' + movies['title']\n",
    "movies.loc[lambda df: df[\"title\"].str.contains(\", A\", regex=True), 'title'] = movies['title'].str.replace(\", A\", '', regex=True)"
   ]
  },
  {
   "cell_type": "markdown",
   "metadata": {},
   "source": [
    "# Popularity-Based Recommender"
   ]
  },
  {
   "cell_type": "code",
   "execution_count": 118,
   "metadata": {},
   "outputs": [],
   "source": [
    "def get_popular_recommendations(n, genres):\n",
    "    recommendations = (\n",
    "        ratings\n",
    "            .groupby('movieId')\n",
    "            .agg(avg_rating = ('rating', 'mean'), num_ratings = ('rating', 'count'))\n",
    "            .merge(movies, on='movieId')\n",
    "            .assign(combined_rating = lambda x: x['avg_rating'] * x['num_ratings']**0.5)\n",
    "            [lambda df: df[\"genres\"].str.contains(genres, regex=True)]\n",
    "            .sort_values('combined_rating', ascending=False)\n",
    "            .head(n)\n",
    "            [['title', 'avg_rating', 'num_ratings', 'genres']]\n",
    "    )\n",
    "\n",
    "    recommendations_ids =   (\n",
    "                            recommendations\n",
    "                                .merge(movies, how = 'left', on = 'title')\n",
    "                                .merge(links, how = 'left', on = 'movieId')\n",
    "                                # [['title', 'genres', 'imdbId']]\n",
    "                            )\n",
    "    recommendations_ids['imdbId'] = 'tt0' + recommendations_ids['imdbId'].astype('str')\n",
    "    imdb_ids = list(recommendations_ids['imdbId'])\n",
    "\n",
    "    return recommendations_ids"
   ]
  },
  {
   "cell_type": "code",
   "execution_count": 126,
   "metadata": {},
   "outputs": [],
   "source": [
    "recommendations = (\n",
    "    ratings\n",
    "        .groupby('movieId')\n",
    "        .agg(avg_rating = ('rating', 'mean'), num_ratings = ('rating', 'count'))\n",
    "        .merge(movies, on='movieId')\n",
    "        .assign(combined_rating = lambda x: x['avg_rating'] * x['num_ratings']**0.5)\n",
    "        [lambda df: df[\"genres\"].str.contains(transform_genre_to_regex(genres), regex=True)]\n",
    "        .sort_values('combined_rating', ascending=False)\n",
    "        .head(n)\n",
    "        [['title', 'avg_rating', 'num_ratings', 'genres', 'movieId']]\n",
    ")\n",
    "\n",
    "recommendations_ids =   (\n",
    "                        recommendations\n",
    "                            .merge(links, how = 'left', on = 'movieId')\n",
    "                            # [['title', 'genres', 'imdbId']]\n",
    "                        )\n",
    "recommendations_ids['imdbId'] = 'tt0' + recommendations_ids['imdbId'].astype('str')\n",
    "imdb_ids = list(recommendations_ids['imdbId'])\n",
    "\n",
    "# recommendations_ids"
   ]
  },
  {
   "cell_type": "code",
   "execution_count": 121,
   "metadata": {},
   "outputs": [
    {
     "data": {
      "text/html": [
       "<div>\n",
       "<style scoped>\n",
       "    .dataframe tbody tr th:only-of-type {\n",
       "        vertical-align: middle;\n",
       "    }\n",
       "\n",
       "    .dataframe tbody tr th {\n",
       "        vertical-align: top;\n",
       "    }\n",
       "\n",
       "    .dataframe thead th {\n",
       "        text-align: right;\n",
       "    }\n",
       "</style>\n",
       "<table border=\"1\" class=\"dataframe\">\n",
       "  <thead>\n",
       "    <tr style=\"text-align: right;\">\n",
       "      <th></th>\n",
       "      <th>title</th>\n",
       "      <th>avg_rating</th>\n",
       "      <th>num_ratings</th>\n",
       "      <th>genres_x</th>\n",
       "      <th>movieId</th>\n",
       "      <th>genres_y</th>\n",
       "    </tr>\n",
       "  </thead>\n",
       "  <tbody>\n",
       "    <tr>\n",
       "      <th>0</th>\n",
       "      <td>Lethal Weapon (1987)</td>\n",
       "      <td>3.673333</td>\n",
       "      <td>75</td>\n",
       "      <td>Action|Comedy|Crime|Drama</td>\n",
       "      <td>2000</td>\n",
       "      <td>Action|Comedy|Crime|Drama</td>\n",
       "    </tr>\n",
       "    <tr>\n",
       "      <th>1</th>\n",
       "      <td>Three Kings (1999)</td>\n",
       "      <td>3.711111</td>\n",
       "      <td>45</td>\n",
       "      <td>Action|Adventure|Comedy|Drama|War</td>\n",
       "      <td>2890</td>\n",
       "      <td>Action|Adventure|Comedy|Drama|War</td>\n",
       "    </tr>\n",
       "    <tr>\n",
       "      <th>2</th>\n",
       "      <td>Sneakers (1992)</td>\n",
       "      <td>3.478261</td>\n",
       "      <td>46</td>\n",
       "      <td>Action|Comedy|Crime|Drama|Sci-Fi</td>\n",
       "      <td>1396</td>\n",
       "      <td>Action|Comedy|Crime|Drama|Sci-Fi</td>\n",
       "    </tr>\n",
       "  </tbody>\n",
       "</table>\n",
       "</div>"
      ],
      "text/plain": [
       "                  title  avg_rating  num_ratings  \\\n",
       "0  Lethal Weapon (1987)    3.673333           75   \n",
       "1    Three Kings (1999)    3.711111           45   \n",
       "2       Sneakers (1992)    3.478261           46   \n",
       "\n",
       "                            genres_x  movieId  \\\n",
       "0          Action|Comedy|Crime|Drama     2000   \n",
       "1  Action|Adventure|Comedy|Drama|War     2890   \n",
       "2   Action|Comedy|Crime|Drama|Sci-Fi     1396   \n",
       "\n",
       "                            genres_y  \n",
       "0          Action|Comedy|Crime|Drama  \n",
       "1  Action|Adventure|Comedy|Drama|War  \n",
       "2   Action|Comedy|Crime|Drama|Sci-Fi  "
      ]
     },
     "execution_count": 121,
     "metadata": {},
     "output_type": "execute_result"
    }
   ],
   "source": [
    "recommendations.merge(movies, how = 'left', on = 'title')."
   ]
  },
  {
   "cell_type": "code",
   "execution_count": 113,
   "metadata": {},
   "outputs": [],
   "source": [
    "def transform_genre_to_regex(genres):\n",
    "    regex = \"\"\n",
    "    index = 0\n",
    "    for genre in genres:\n",
    "        regex += f\"(?=.*{genre})\"\n",
    "\n",
    "    return regex"
   ]
  },
  {
   "cell_type": "code",
   "execution_count": 114,
   "metadata": {},
   "outputs": [],
   "source": [
    "genres = ['Action', 'Drama', 'Comedy']"
   ]
  },
  {
   "cell_type": "code",
   "execution_count": 119,
   "metadata": {},
   "outputs": [
    {
     "ename": "KeyError",
     "evalue": "\"['genres'] not in index\"",
     "output_type": "error",
     "traceback": [
      "\u001b[1;31m---------------------------------------------------------------------------\u001b[0m",
      "\u001b[1;31mKeyError\u001b[0m                                  Traceback (most recent call last)",
      "\u001b[1;32mc:\\Users\\tobia\\Documents\\Bootcamp\\web_apps\\movie-recommender-streamlit\\movie_recommender.ipynb Cell 8\u001b[0m in \u001b[0;36m<cell line: 1>\u001b[1;34m()\u001b[0m\n\u001b[1;32m----> <a href='vscode-notebook-cell:/c%3A/Users/tobia/Documents/Bootcamp/web_apps/movie-recommender-streamlit/movie_recommender.ipynb#X10sZmlsZQ%3D%3D?line=0'>1</a>\u001b[0m get_popular_recommendations(\u001b[39m10\u001b[39;49m, transform_genre_to_regex(genres))\n",
      "\u001b[1;32mc:\\Users\\tobia\\Documents\\Bootcamp\\web_apps\\movie-recommender-streamlit\\movie_recommender.ipynb Cell 8\u001b[0m in \u001b[0;36mget_popular_recommendations\u001b[1;34m(n, genres)\u001b[0m\n\u001b[0;32m      <a href='vscode-notebook-cell:/c%3A/Users/tobia/Documents/Bootcamp/web_apps/movie-recommender-streamlit/movie_recommender.ipynb#X10sZmlsZQ%3D%3D?line=0'>1</a>\u001b[0m \u001b[39mdef\u001b[39;00m \u001b[39mget_popular_recommendations\u001b[39m(n, genres):\n\u001b[0;32m      <a href='vscode-notebook-cell:/c%3A/Users/tobia/Documents/Bootcamp/web_apps/movie-recommender-streamlit/movie_recommender.ipynb#X10sZmlsZQ%3D%3D?line=1'>2</a>\u001b[0m     recommendations \u001b[39m=\u001b[39m (\n\u001b[0;32m      <a href='vscode-notebook-cell:/c%3A/Users/tobia/Documents/Bootcamp/web_apps/movie-recommender-streamlit/movie_recommender.ipynb#X10sZmlsZQ%3D%3D?line=2'>3</a>\u001b[0m         ratings\n\u001b[0;32m      <a href='vscode-notebook-cell:/c%3A/Users/tobia/Documents/Bootcamp/web_apps/movie-recommender-streamlit/movie_recommender.ipynb#X10sZmlsZQ%3D%3D?line=3'>4</a>\u001b[0m             \u001b[39m.\u001b[39mgroupby(\u001b[39m'\u001b[39m\u001b[39mmovieId\u001b[39m\u001b[39m'\u001b[39m)\n\u001b[1;32m   (...)\u001b[0m\n\u001b[0;32m     <a href='vscode-notebook-cell:/c%3A/Users/tobia/Documents/Bootcamp/web_apps/movie-recommender-streamlit/movie_recommender.ipynb#X10sZmlsZQ%3D%3D?line=10'>11</a>\u001b[0m             [[\u001b[39m'\u001b[39m\u001b[39mtitle\u001b[39m\u001b[39m'\u001b[39m, \u001b[39m'\u001b[39m\u001b[39mavg_rating\u001b[39m\u001b[39m'\u001b[39m, \u001b[39m'\u001b[39m\u001b[39mnum_ratings\u001b[39m\u001b[39m'\u001b[39m, \u001b[39m'\u001b[39m\u001b[39mgenres\u001b[39m\u001b[39m'\u001b[39m]]\n\u001b[0;32m     <a href='vscode-notebook-cell:/c%3A/Users/tobia/Documents/Bootcamp/web_apps/movie-recommender-streamlit/movie_recommender.ipynb#X10sZmlsZQ%3D%3D?line=11'>12</a>\u001b[0m     )\n\u001b[0;32m     <a href='vscode-notebook-cell:/c%3A/Users/tobia/Documents/Bootcamp/web_apps/movie-recommender-streamlit/movie_recommender.ipynb#X10sZmlsZQ%3D%3D?line=13'>14</a>\u001b[0m     recommendations_ids \u001b[39m=\u001b[39m   (\n\u001b[1;32m---> <a href='vscode-notebook-cell:/c%3A/Users/tobia/Documents/Bootcamp/web_apps/movie-recommender-streamlit/movie_recommender.ipynb#X10sZmlsZQ%3D%3D?line=14'>15</a>\u001b[0m                             recommendations\n\u001b[0;32m     <a href='vscode-notebook-cell:/c%3A/Users/tobia/Documents/Bootcamp/web_apps/movie-recommender-streamlit/movie_recommender.ipynb#X10sZmlsZQ%3D%3D?line=15'>16</a>\u001b[0m                                 \u001b[39m.\u001b[39;49mmerge(movies, how \u001b[39m=\u001b[39;49m \u001b[39m'\u001b[39;49m\u001b[39mleft\u001b[39;49m\u001b[39m'\u001b[39;49m, on \u001b[39m=\u001b[39;49m \u001b[39m'\u001b[39;49m\u001b[39mtitle\u001b[39;49m\u001b[39m'\u001b[39;49m)\n\u001b[0;32m     <a href='vscode-notebook-cell:/c%3A/Users/tobia/Documents/Bootcamp/web_apps/movie-recommender-streamlit/movie_recommender.ipynb#X10sZmlsZQ%3D%3D?line=16'>17</a>\u001b[0m                                 \u001b[39m.\u001b[39;49mmerge(links, how \u001b[39m=\u001b[39;49m \u001b[39m'\u001b[39;49m\u001b[39mleft\u001b[39;49m\u001b[39m'\u001b[39;49m, on \u001b[39m=\u001b[39;49m \u001b[39m'\u001b[39;49m\u001b[39mmovieId\u001b[39;49m\u001b[39m'\u001b[39;49m)\n\u001b[0;32m     <a href='vscode-notebook-cell:/c%3A/Users/tobia/Documents/Bootcamp/web_apps/movie-recommender-streamlit/movie_recommender.ipynb#X10sZmlsZQ%3D%3D?line=17'>18</a>\u001b[0m                                 [[\u001b[39m'\u001b[39;49m\u001b[39mtitle\u001b[39;49m\u001b[39m'\u001b[39;49m, \u001b[39m'\u001b[39;49m\u001b[39mgenres\u001b[39;49m\u001b[39m'\u001b[39;49m, \u001b[39m'\u001b[39;49m\u001b[39mimdbId\u001b[39;49m\u001b[39m'\u001b[39;49m]]\n\u001b[0;32m     <a href='vscode-notebook-cell:/c%3A/Users/tobia/Documents/Bootcamp/web_apps/movie-recommender-streamlit/movie_recommender.ipynb#X10sZmlsZQ%3D%3D?line=18'>19</a>\u001b[0m                             )\n\u001b[0;32m     <a href='vscode-notebook-cell:/c%3A/Users/tobia/Documents/Bootcamp/web_apps/movie-recommender-streamlit/movie_recommender.ipynb#X10sZmlsZQ%3D%3D?line=19'>20</a>\u001b[0m     recommendations_ids[\u001b[39m'\u001b[39m\u001b[39mimdbId\u001b[39m\u001b[39m'\u001b[39m] \u001b[39m=\u001b[39m \u001b[39m'\u001b[39m\u001b[39mtt0\u001b[39m\u001b[39m'\u001b[39m \u001b[39m+\u001b[39m recommendations_ids[\u001b[39m'\u001b[39m\u001b[39mimdbId\u001b[39m\u001b[39m'\u001b[39m]\u001b[39m.\u001b[39mastype(\u001b[39m'\u001b[39m\u001b[39mstr\u001b[39m\u001b[39m'\u001b[39m)\n\u001b[0;32m     <a href='vscode-notebook-cell:/c%3A/Users/tobia/Documents/Bootcamp/web_apps/movie-recommender-streamlit/movie_recommender.ipynb#X10sZmlsZQ%3D%3D?line=20'>21</a>\u001b[0m     imdb_ids \u001b[39m=\u001b[39m \u001b[39mlist\u001b[39m(recommendations_ids[\u001b[39m'\u001b[39m\u001b[39mimdbId\u001b[39m\u001b[39m'\u001b[39m])\n",
      "File \u001b[1;32mc:\\Users\\tobia\\miniconda3\\envs\\home\\lib\\site-packages\\pandas\\core\\frame.py:3511\u001b[0m, in \u001b[0;36mDataFrame.__getitem__\u001b[1;34m(self, key)\u001b[0m\n\u001b[0;32m   3509\u001b[0m     \u001b[39mif\u001b[39;00m is_iterator(key):\n\u001b[0;32m   3510\u001b[0m         key \u001b[39m=\u001b[39m \u001b[39mlist\u001b[39m(key)\n\u001b[1;32m-> 3511\u001b[0m     indexer \u001b[39m=\u001b[39m \u001b[39mself\u001b[39;49m\u001b[39m.\u001b[39;49mcolumns\u001b[39m.\u001b[39;49m_get_indexer_strict(key, \u001b[39m\"\u001b[39;49m\u001b[39mcolumns\u001b[39;49m\u001b[39m\"\u001b[39;49m)[\u001b[39m1\u001b[39m]\n\u001b[0;32m   3513\u001b[0m \u001b[39m# take() does not accept boolean indexers\u001b[39;00m\n\u001b[0;32m   3514\u001b[0m \u001b[39mif\u001b[39;00m \u001b[39mgetattr\u001b[39m(indexer, \u001b[39m\"\u001b[39m\u001b[39mdtype\u001b[39m\u001b[39m\"\u001b[39m, \u001b[39mNone\u001b[39;00m) \u001b[39m==\u001b[39m \u001b[39mbool\u001b[39m:\n",
      "File \u001b[1;32mc:\\Users\\tobia\\miniconda3\\envs\\home\\lib\\site-packages\\pandas\\core\\indexes\\base.py:5782\u001b[0m, in \u001b[0;36mIndex._get_indexer_strict\u001b[1;34m(self, key, axis_name)\u001b[0m\n\u001b[0;32m   5779\u001b[0m \u001b[39melse\u001b[39;00m:\n\u001b[0;32m   5780\u001b[0m     keyarr, indexer, new_indexer \u001b[39m=\u001b[39m \u001b[39mself\u001b[39m\u001b[39m.\u001b[39m_reindex_non_unique(keyarr)\n\u001b[1;32m-> 5782\u001b[0m \u001b[39mself\u001b[39;49m\u001b[39m.\u001b[39;49m_raise_if_missing(keyarr, indexer, axis_name)\n\u001b[0;32m   5784\u001b[0m keyarr \u001b[39m=\u001b[39m \u001b[39mself\u001b[39m\u001b[39m.\u001b[39mtake(indexer)\n\u001b[0;32m   5785\u001b[0m \u001b[39mif\u001b[39;00m \u001b[39misinstance\u001b[39m(key, Index):\n\u001b[0;32m   5786\u001b[0m     \u001b[39m# GH 42790 - Preserve name from an Index\u001b[39;00m\n",
      "File \u001b[1;32mc:\\Users\\tobia\\miniconda3\\envs\\home\\lib\\site-packages\\pandas\\core\\indexes\\base.py:5845\u001b[0m, in \u001b[0;36mIndex._raise_if_missing\u001b[1;34m(self, key, indexer, axis_name)\u001b[0m\n\u001b[0;32m   5842\u001b[0m     \u001b[39mraise\u001b[39;00m \u001b[39mKeyError\u001b[39;00m(\u001b[39mf\u001b[39m\u001b[39m\"\u001b[39m\u001b[39mNone of [\u001b[39m\u001b[39m{\u001b[39;00mkey\u001b[39m}\u001b[39;00m\u001b[39m] are in the [\u001b[39m\u001b[39m{\u001b[39;00maxis_name\u001b[39m}\u001b[39;00m\u001b[39m]\u001b[39m\u001b[39m\"\u001b[39m)\n\u001b[0;32m   5844\u001b[0m not_found \u001b[39m=\u001b[39m \u001b[39mlist\u001b[39m(ensure_index(key)[missing_mask\u001b[39m.\u001b[39mnonzero()[\u001b[39m0\u001b[39m]]\u001b[39m.\u001b[39munique())\n\u001b[1;32m-> 5845\u001b[0m \u001b[39mraise\u001b[39;00m \u001b[39mKeyError\u001b[39;00m(\u001b[39mf\u001b[39m\u001b[39m\"\u001b[39m\u001b[39m{\u001b[39;00mnot_found\u001b[39m}\u001b[39;00m\u001b[39m not in index\u001b[39m\u001b[39m\"\u001b[39m)\n",
      "\u001b[1;31mKeyError\u001b[0m: \"['genres'] not in index\""
     ]
    }
   ],
   "source": [
    "get_popular_recommendations(10, transform_genre_to_regex(genres))"
   ]
  },
  {
   "cell_type": "markdown",
   "metadata": {},
   "source": [
    "# Similarity-Based Recommender"
   ]
  },
  {
   "cell_type": "code",
   "execution_count": 31,
   "metadata": {},
   "outputs": [],
   "source": [
    "movie_user_matrix = (\n",
    "                ratings\n",
    "                    .merge(movies, on='movieId')[['title', 'rating', 'userId']]\n",
    "                    .pivot_table(index='title', columns='userId', values='rating')\n",
    "                    .fillna(0)\n",
    "                )\n",
    "similarities_movies = pd.DataFrame(cosine_similarity(movie_user_matrix),\n",
    "                                  index=movie_user_matrix.index,\n",
    "                                  columns=movie_user_matrix.index)"
   ]
  },
  {
   "cell_type": "code",
   "execution_count": 87,
   "metadata": {},
   "outputs": [],
   "source": [
    "def get_similar_recommendations(movie_title, n, genres):\n",
    "    \n",
    "    # select similarity for chosen movie\n",
    "    similarities = pd.DataFrame(\n",
    "        (similarities_movies.query(\"index != @movie_title\")[movie_title] / sum(similarities_movies.query(\"index != @movie_title\")[movie_title]))\n",
    "        .sort_values(ascending= False))\n",
    " \n",
    "    # exclude genres if necessary and return the n movies with the highest similarity\n",
    "    recommendations = (\n",
    "        similarities\n",
    "            .merge(movies, how= 'left', left_index = True, right_on = 'title')\n",
    "            [lambda df: df[\"genres\"].str.contains(genres, regex=True)]\n",
    "            .head(n)\n",
    "            [['title', 'genres']]\n",
    "            )\n",
    "\n",
    "    return recommendations"
   ]
  },
  {
   "cell_type": "code",
   "execution_count": 90,
   "metadata": {},
   "outputs": [],
   "source": [
    "movie_title = \"A Beautiful Mind (2001)\" \n",
    "n = 3\n",
    "genres = ''"
   ]
  },
  {
   "cell_type": "code",
   "execution_count": 91,
   "metadata": {},
   "outputs": [],
   "source": [
    "# select similarity for chosen movie\n",
    "similarities = pd.DataFrame(\n",
    "    (similarities_movies.query(\"index != @movie_title\")[movie_title] / sum(similarities_movies.query(\"index != @movie_title\")[movie_title]))\n",
    "    .sort_values(ascending= False))\n",
    "\n",
    "# exclude genres if necessary and return the n movies with the highest similarity\n",
    "recommendations = (\n",
    "    similarities\n",
    "        .merge(movies, how= 'left', left_index = True, right_on = 'title')\n",
    "        [lambda df: df[\"genres\"].str.contains(genres, regex=True)]\n",
    "        .head(n)\n",
    "        [['title', 'genres', 'movieId']]\n",
    "        )"
   ]
  },
  {
   "cell_type": "code",
   "execution_count": 62,
   "metadata": {},
   "outputs": [],
   "source": [
    "sample_output = get_similar_recommendations(movie_title, 3, '')"
   ]
  },
  {
   "cell_type": "code",
   "execution_count": 125,
   "metadata": {},
   "outputs": [],
   "source": [
    "def find_movie_title(user_input):\n",
    "    title_list = movies.title.unique()\n",
    "    \n",
    "    r = re.compile(f\".*{user_input}.*\")\n",
    "    result = []\n",
    "\n",
    "    for title in title_list:\n",
    "        match = r.findall(title)\n",
    "        if match:\n",
    "            result.append(match)\n",
    "    \n",
    "    return result[0][0]"
   ]
  },
  {
   "cell_type": "code",
   "execution_count": 126,
   "metadata": {},
   "outputs": [
    {
     "data": {
      "text/plain": [
       "'Matrix, The (1999)'"
      ]
     },
     "execution_count": 126,
     "metadata": {},
     "output_type": "execute_result"
    }
   ],
   "source": [
    "find_movie_title('Matrix')"
   ]
  },
  {
   "cell_type": "code",
   "execution_count": null,
   "metadata": {},
   "outputs": [],
   "source": [
    "def get_similar_recommendations_streaming(movie_title, n, genres, country, url, headers):\n",
    "\n",
    "    # select similarity for chosen movie\n",
    "    similarities = pd.DataFrame(\n",
    "        (similarities_movies.query(\"index != @movie_title\")[movie_title] / sum(similarities_movies.query(\"index != @movie_title\")[movie_title]))\n",
    "        .sort_values(ascending= False))\n",
    "\n",
    "    # exclude genres if necessary and return the n movies with the highest similarity\n",
    "    recommendations = (\n",
    "        similarities\n",
    "            .merge(movies, how= 'left', left_index = True, right_on = 'title')\n",
    "            [lambda df: df[\"genres\"].str.contains(genres, regex=True)]\n",
    "            .head(n)\n",
    "            [['title', 'genres', 'movieId']]\n",
    "            )\n",
    "\n",
    "    # merge recommendations with links df to get imdbIds for the API calls\n",
    "    recommendations_ids = recommendations.merge(links, how = 'left', on = 'movieId')[['title', 'genres', 'imdbId']]\n",
    "    recommendations_ids['imdbId'] = 'tt0' + recommendations_ids['imdbId'].astype('str')\n",
    "    imdb_ids = list(recommendations_ids['imdbId'])\n",
    "\n",
    "    # create new column for streaming links\n",
    "    recommendations_ids['Streaming Availability'] = \"\"\n",
    "\n",
    "    # loop through imdb_ids to make one api call for each to get available streaming links\n",
    "    for id in imdb_ids:\n",
    "\n",
    "        # make api call\n",
    "        querystring = {\"country\":country,\"imdb_id\":id,\"output_language\":\"en\"}\n",
    "        response = requests.request(\"GET\", url, headers=headers, params=querystring)\n",
    "        streaming_info = response.json()\n",
    "\n",
    "        for streaming_service in streaming_info['streamingInfo']:\n",
    "            recommendations_ids.loc[recommendations_ids['imdbId'] == id, 'Streaming Availability'] += f\"{streaming_service}: {streaming_info['streamingInfo'][streaming_service][country]['link']} \\n\" "
   ]
  },
  {
   "cell_type": "markdown",
   "metadata": {},
   "source": [
    "# User-Based Recommender"
   ]
  },
  {
   "cell_type": "code",
   "execution_count": 8,
   "metadata": {},
   "outputs": [],
   "source": [
    "# create \"database\" to use for recommendations\n",
    "user_item_matrix = all_ratings_pivoted.fillna(0)\n",
    "\n",
    "similarities_users = pd.DataFrame(cosine_similarity(user_item_matrix),\n",
    "                                  index=user_item_matrix.index,\n",
    "                                  columns=user_item_matrix.index)"
   ]
  },
  {
   "cell_type": "code",
   "execution_count": 9,
   "metadata": {},
   "outputs": [],
   "source": [
    "def get_user_recommendations(user_id, n):\n",
    "    \n",
    "    # calculate weights for ratings\n",
    "    weights = similarities_users.query(\"index != @user_id\")[user_id] / sum(similarities_users.query(\"index != @user_id\")[user_id])\n",
    "\n",
    "    # get unwatched movies for recommendations\n",
    "    unwatched_movies = user_item_matrix.loc[user_item_matrix.index != user_id, user_item_matrix.loc[user_id,:] == 0].T\n",
    "\n",
    "    # compute weighted averages and return the n movies with the highest predicted ratings\n",
    "    weighted_averages = pd.DataFrame(unwatched_movies.dot(weights), columns = [\"predicted_rating\"])\n",
    "    recommendations = weighted_averages.sort_values(\"predicted_rating\", ascending=False).head(n).index\n",
    "\n",
    "    return recommendations"
   ]
  },
  {
   "cell_type": "code",
   "execution_count": 58,
   "metadata": {},
   "outputs": [
    {
     "data": {
      "text/plain": [
       "Index(['Forrest Gump (1994)', 'Silence of the Lambs, The (1991)',\n",
       "       'Jurassic Park (1993)', 'Seven (a.k.a. Se7en) (1995)', 'Speed (1994)',\n",
       "       'Twelve Monkeys (a.k.a. 12 Monkeys) (1995)',\n",
       "       'Die Hard: With a Vengeance (1995)',\n",
       "       'Star Wars: Episode IV - A New Hope (1977)', 'Matrix, The (1999)',\n",
       "       'Independence Day (a.k.a. ID4) (1996)'],\n",
       "      dtype='object', name='title')"
      ]
     },
     "execution_count": 58,
     "metadata": {},
     "output_type": "execute_result"
    }
   ],
   "source": [
    "get_user_recommendations(5, 10)"
   ]
  },
  {
   "cell_type": "markdown",
   "metadata": {},
   "source": [
    "# Streaming API"
   ]
  },
  {
   "cell_type": "markdown",
   "metadata": {},
   "source": [
    "## notes\n",
    "\n",
    "* imdb-ids have \"tt0\" as prefix"
   ]
  },
  {
   "cell_type": "code",
   "execution_count": 20,
   "metadata": {},
   "outputs": [],
   "source": [
    "url = \"https://streaming-availability.p.rapidapi.com/get/basic\"\n",
    "\n",
    "querystring = {\"country\":\"de\",\"imdb_id\":\"tt0268978\",\"output_language\":\"en\"}\n",
    "\n",
    "headers = {\n",
    "\t\"X-RapidAPI-Key\": \"d3bf10e76bmshe58fc89e9aaa547p1c119cjsncdd51d83db32\",\n",
    "\t\"X-RapidAPI-Host\": \"streaming-availability.p.rapidapi.com\"\n",
    "}\n",
    "\n",
    "response = requests.request(\"GET\", url, headers=headers, params=querystring)"
   ]
  },
  {
   "cell_type": "code",
   "execution_count": 27,
   "metadata": {},
   "outputs": [],
   "source": [
    "country = 'de'\n",
    "streaming_platform = 'netflix'"
   ]
  },
  {
   "cell_type": "code",
   "execution_count": 21,
   "metadata": {},
   "outputs": [],
   "source": [
    "streaming_info = response.json()"
   ]
  },
  {
   "cell_type": "code",
   "execution_count": 44,
   "metadata": {},
   "outputs": [
    {
     "data": {
      "text/plain": [
       "{'netflix': {'de': {'link': 'https://www.netflix.com/title/60021793/',\n",
       "   'added': 1659998955,\n",
       "   'leaving': 0}},\n",
       " 'prime': {'de': {'link': 'https://www.amazon.de/gp/video/detail/0J3OTJNXZRY1JRCLCIMD37FKTZ/',\n",
       "   'added': 1636925663,\n",
       "   'leaving': 0}}}"
      ]
     },
     "execution_count": 44,
     "metadata": {},
     "output_type": "execute_result"
    }
   ],
   "source": [
    "streaming_info['streamingInfo']"
   ]
  },
  {
   "cell_type": "code",
   "execution_count": 108,
   "metadata": {},
   "outputs": [],
   "source": [
    "movie_title = \"A Beautiful Mind (2001)\" \n",
    "n = 3\n",
    "genres = ''\n",
    "\n",
    "# select similarity for chosen movie\n",
    "similarities = pd.DataFrame(\n",
    "    (similarities_movies.query(\"index != @movie_title\")[movie_title] / sum(similarities_movies.query(\"index != @movie_title\")[movie_title]))\n",
    "    .sort_values(ascending= False))\n",
    "\n",
    "# exclude genres if necessary and return the n movies with the highest similarity\n",
    "recommendations = (\n",
    "    similarities\n",
    "        .merge(movies, how= 'left', left_index = True, right_on = 'title')\n",
    "        [lambda df: df[\"genres\"].str.contains(genres, regex=True)]\n",
    "        .head(n)\n",
    "        [['title', 'genres', 'movieId']]\n",
    "        )\n",
    "\n",
    "# merge recommendations with links df to get imdbIds for the API calls\n",
    "recommendations_ids = recommendations.merge(links, how = 'left', on = 'movieId')[['title', 'genres', 'imdbId']]\n",
    "recommendations_ids['imdbId'] = 'tt0' + recommendations_ids['imdbId'].astype('str')\n",
    "imdb_ids = list(recommendations_ids['imdbId'])\n",
    "\n",
    "# create new column for streaming links\n",
    "recommendations_ids['Streaming Availability'] = \"\"\n",
    "\n",
    "# loop through imdb_ids to make one api call for each to get available streaming links\n",
    "for id in imdb_ids:\n",
    "\n",
    "    # make api call\n",
    "    querystring = {\"country\":country,\"imdb_id\":id,\"output_language\":\"en\"}\n",
    "    response = requests.request(\"GET\", url, headers=headers, params=querystring)\n",
    "    streaming_info = response.json()\n",
    "\n",
    "    for streaming_service in streaming_info['streamingInfo']:\n",
    "        recommendations_ids.loc[recommendations_ids['imdbId'] == id, 'Streaming Availability'] += f\"{streaming_service}: {streaming_info['streamingInfo'][streaming_service][country]['link']} \\n\"  "
   ]
  },
  {
   "cell_type": "code",
   "execution_count": 109,
   "metadata": {},
   "outputs": [],
   "source": [
    "for id in imdb_ids:\n",
    "\n",
    "    # make api call\n",
    "    querystring = {\"country\":country,\"imdb_id\":id,\"output_language\":\"en\"}\n",
    "    response = requests.request(\"GET\", url, headers=headers, params=querystring)\n",
    "    streaming_info = response.json()\n",
    "\n",
    "    for streaming_service in streaming_info['streamingInfo']:\n",
    "        recommendations_ids.loc[recommendations_ids['imdbId'] == id, 'Streaming Availability'] += f\"{streaming_service}: {streaming_info['streamingInfo'][streaming_service][country]['link']} \\n\"  "
   ]
  },
  {
   "cell_type": "code",
   "execution_count": 107,
   "metadata": {},
   "outputs": [],
   "source": [
    "for id in imdb_ids:\n",
    "\n",
    "    test_list= [1 , 2 , 3]\n",
    "\n",
    "    for streaming_service in test_list:\n",
    "        recommendations_ids.loc[recommendations_ids['imdbId'] == id, 'Streaming Availability'] += f\"{streaming_service}: {streaming_service} \\n\" "
   ]
  },
  {
   "cell_type": "code",
   "execution_count": 61,
   "metadata": {},
   "outputs": [],
   "source": [
    "recommendations_ids['Streaming Availability'] = \"\"\n",
    "\n",
    "for streaming_service in streaming_info['streamingInfo']:\n",
    "    sample_output['Streaming Availability'] += f\"{streaming_service}: {streaming_info['streamingInfo'][streaming_service][country]['link']} \\n\"  "
   ]
  },
  {
   "cell_type": "code",
   "execution_count": 29,
   "metadata": {},
   "outputs": [
    {
     "data": {
      "text/plain": [
       "'https://www.netflix.com/title/60021793/'"
      ]
     },
     "execution_count": 29,
     "metadata": {},
     "output_type": "execute_result"
    }
   ],
   "source": [
    "streaming_info['streamingInfo'][streaming_platform][country]['link']"
   ]
  },
  {
   "cell_type": "code",
   "execution_count": 19,
   "metadata": {},
   "outputs": [
    {
     "data": {
      "text/html": [
       "<div>\n",
       "<style scoped>\n",
       "    .dataframe tbody tr th:only-of-type {\n",
       "        vertical-align: middle;\n",
       "    }\n",
       "\n",
       "    .dataframe tbody tr th {\n",
       "        vertical-align: top;\n",
       "    }\n",
       "\n",
       "    .dataframe thead th {\n",
       "        text-align: right;\n",
       "    }\n",
       "</style>\n",
       "<table border=\"1\" class=\"dataframe\">\n",
       "  <thead>\n",
       "    <tr style=\"text-align: right;\">\n",
       "      <th></th>\n",
       "      <th>movieId</th>\n",
       "      <th>title</th>\n",
       "      <th>genres</th>\n",
       "      <th>imdbId</th>\n",
       "      <th>tmdbId</th>\n",
       "    </tr>\n",
       "  </thead>\n",
       "  <tbody>\n",
       "    <tr>\n",
       "      <th>3640</th>\n",
       "      <td>4995</td>\n",
       "      <td>A Beautiful Mind (2001)</td>\n",
       "      <td>Drama|Romance</td>\n",
       "      <td>268978</td>\n",
       "      <td>453.0</td>\n",
       "    </tr>\n",
       "  </tbody>\n",
       "</table>\n",
       "</div>"
      ],
      "text/plain": [
       "      movieId                    title         genres  imdbId  tmdbId\n",
       "3640     4995  A Beautiful Mind (2001)  Drama|Romance  268978   453.0"
      ]
     },
     "execution_count": 19,
     "metadata": {},
     "output_type": "execute_result"
    }
   ],
   "source": [
    "movies.merge(links, how= 'left', on= 'movieId').loc[lambda df: df['title'].str.contains('Beautiful Mind')]"
   ]
  }
 ],
 "metadata": {
  "kernelspec": {
   "display_name": "Python 3.9.5",
   "language": "python",
   "name": "python3"
  },
  "language_info": {
   "codemirror_mode": {
    "name": "ipython",
    "version": 3
   },
   "file_extension": ".py",
   "mimetype": "text/x-python",
   "name": "python",
   "nbconvert_exporter": "python",
   "pygments_lexer": "ipython3",
   "version": "3.9.5"
  },
  "orig_nbformat": 4,
  "vscode": {
   "interpreter": {
    "hash": "f32269641e17bf27d9ca909c2404938da1b1b2df6b9d3f5a88a1b877c863c5b8"
   }
  }
 },
 "nbformat": 4,
 "nbformat_minor": 2
}
