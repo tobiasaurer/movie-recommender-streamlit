{
 "cells": [
  {
   "cell_type": "code",
   "execution_count": 1,
   "metadata": {},
   "outputs": [],
   "source": [
    "import pandas as pd\n",
    "from sklearn.metrics.pairwise import cosine_similarity\n",
    "import re\n",
    "import requests\n",
    "import json\n",
    "import api_keys"
   ]
  },
  {
   "cell_type": "markdown",
   "metadata": {},
   "source": [
    "# Data Preparation"
   ]
  },
  {
   "cell_type": "code",
   "execution_count": 2,
   "metadata": {},
   "outputs": [],
   "source": [
    "# import data\n",
    "movies =    pd.read_csv('data/movies.csv')\n",
    "links =     pd.read_csv('data/links.csv')\n",
    "ratings =   pd.read_csv('data/ratings.csv')\n",
    "tags =      pd.read_csv('data/tags.csv')\n",
    "\n",
    "# clean titles column by moving \"The\" and \"A\" to the beginning of the string\n",
    "# # this makes it more searchable for users\n",
    "movies.loc[lambda df: df[\"title\"].str.contains(\", The\", regex=True), 'title'] = 'The ' + movies['title']\n",
    "movies.loc[lambda df: df[\"title\"].str.contains(\", The\", regex=True), 'title'] = movies['title'].str.replace(\", The\", '', regex=True)\n",
    "\n",
    "movies.loc[lambda df: df[\"title\"].str.contains(\", A\", regex=True), 'title'] = 'A ' + movies['title']\n",
    "movies.loc[lambda df: df[\"title\"].str.contains(\", A\", regex=True), 'title'] = movies['title'].str.replace(\", A\", '', regex=True)"
   ]
  },
  {
   "cell_type": "markdown",
   "metadata": {},
   "source": [
    "## Extract year from title"
   ]
  },
  {
   "cell_type": "code",
   "execution_count": 12,
   "metadata": {},
   "outputs": [],
   "source": [
    "movies= movies.assign(year = lambda df_ : df_['title'].replace(r'(.*)\\((\\d{4})\\)', r'\\2', regex= True))\n",
    "movies.year = pd.to_numeric(movies.year, errors= 'coerce').fillna(0).astype('int')"
   ]
  },
  {
   "cell_type": "markdown",
   "metadata": {},
   "source": [
    "# Popularity-Based Recommender"
   ]
  },
  {
   "cell_type": "code",
   "execution_count": 29,
   "metadata": {},
   "outputs": [],
   "source": [
    "def get_popular_recommendations(n, genres, time_range):\n",
    "    recommendations = (\n",
    "        ratings\n",
    "            .groupby('movieId')\n",
    "            .agg(avg_rating = ('rating', 'mean'), num_ratings = ('rating', 'count'))\n",
    "            .merge(movies, on='movieId')\n",
    "            .assign(combined_rating = lambda x: x['avg_rating'] * x['num_ratings']**0.5)\n",
    "            [lambda df: df[\"genres\"].str.contains(genres, regex=True)]\n",
    "            .loc[lambda df : ((df['year'] >= time_range[0]) & ( df['year'] <= time_range[1]))]\n",
    "            .sort_values('combined_rating', ascending=False)\n",
    "            .head(n)\n",
    "            [['title', 'avg_rating', 'genres']]\n",
    "            .rename(columns= {'title': 'Movie Title', 'avg_rating': 'Average Rating', 'genres': 'Genres'})\n",
    "    )\n",
    "    return recommendations"
   ]
  },
  {
   "cell_type": "code",
   "execution_count": 3,
   "metadata": {},
   "outputs": [],
   "source": [
    "def get_popular_recommendations_streaming(n, genres, time_range, country, url, headers):\n",
    "    recommendations = (\n",
    "        ratings\n",
    "            .groupby('movieId')\n",
    "            .agg(avg_rating = ('rating', 'mean'), num_ratings = ('rating', 'count'))\n",
    "            .merge(movies, on='movieId')\n",
    "            .assign(combined_rating = lambda x: x['avg_rating'] * x['num_ratings']**0.5)\n",
    "            [lambda df: df[\"genres\"].str.contains(genres, regex=True)]\n",
    "            .loc[lambda df : ((df['year'] >= time_range[0]) & ( df['year'] <= time_range[1]))]\n",
    "            .sort_values('combined_rating', ascending=False)\n",
    "            .head(n)\n",
    "            [['title', 'avg_rating', 'genres', 'movieId']]\n",
    "    )\n",
    "    # merge recommendations with links df to get imdbIds for the API calls\n",
    "    recommendations_ids =   (\n",
    "                            recommendations\n",
    "                                .merge(links, how = 'left', on = 'movieId')\n",
    "                                # [['title', 'genres', 'imdbId']]\n",
    "                            )\n",
    "    recommendations_ids['imdbId'] = 'tt0' + recommendations_ids['imdbId'].astype('str')\n",
    "    imdb_ids = list(recommendations_ids['imdbId'])\n",
    "\n",
    "    # create new column for streaming links\n",
    "    recommendations_ids['Streaming Availability'] = \"\"\n",
    "\n",
    "    # loop through imdb_ids to make one api call for each to get available streaming links\n",
    "    for id in imdb_ids:\n",
    "\n",
    "        # make api call\n",
    "        querystring = {\"country\":country,\"imdb_id\":id,\"output_language\":\"en\"}\n",
    "        response = requests.request(\"GET\", url, headers=headers, params=querystring)\n",
    "        streaming_info = response.json()\n",
    "\n",
    "        for streaming_service in streaming_info['streamingInfo']:\n",
    "            recommendations_ids.loc[recommendations_ids['imdbId'] == id, 'Streaming Availability'] += f\"{streaming_service}: {streaming_info['streamingInfo'][streaming_service][country]['link']} \\n\" \n",
    "\n",
    "    recommendations_ids.rename(columns= {'title': 'Movie Title', 'genres': 'Genres'}, inplace = True)\n",
    "\n",
    "    return recommendations_ids[['Movie Title', 'Genres', 'Streaming Availability']]"
   ]
  },
  {
   "cell_type": "code",
   "execution_count": 4,
   "metadata": {},
   "outputs": [],
   "source": [
    "def transform_genre_to_regex(genres):\n",
    "    regex = \"\"\n",
    "    index = 0\n",
    "    for genre in genres:\n",
    "        regex += f\"(?=.*{genre})\"\n",
    "\n",
    "    return regex"
   ]
  },
  {
   "cell_type": "code",
   "execution_count": 5,
   "metadata": {},
   "outputs": [],
   "source": [
    "genres = ['Action', 'Drama', 'Comedy']"
   ]
  },
  {
   "cell_type": "code",
   "execution_count": 30,
   "metadata": {},
   "outputs": [
    {
     "data": {
      "text/html": [
       "<div>\n",
       "<style scoped>\n",
       "    .dataframe tbody tr th:only-of-type {\n",
       "        vertical-align: middle;\n",
       "    }\n",
       "\n",
       "    .dataframe tbody tr th {\n",
       "        vertical-align: top;\n",
       "    }\n",
       "\n",
       "    .dataframe thead th {\n",
       "        text-align: right;\n",
       "    }\n",
       "</style>\n",
       "<table border=\"1\" class=\"dataframe\">\n",
       "  <thead>\n",
       "    <tr style=\"text-align: right;\">\n",
       "      <th></th>\n",
       "      <th>Movie Title</th>\n",
       "      <th>Average Rating</th>\n",
       "      <th>Genres</th>\n",
       "    </tr>\n",
       "  </thead>\n",
       "  <tbody>\n",
       "    <tr>\n",
       "      <th>3633</th>\n",
       "      <td>The Lord of the Rings: The Fellowship of the R...</td>\n",
       "      <td>4.106061</td>\n",
       "      <td>Adventure|Fantasy</td>\n",
       "    </tr>\n",
       "    <tr>\n",
       "      <th>4791</th>\n",
       "      <td>The Lord of the Rings: The Return of the King ...</td>\n",
       "      <td>4.118919</td>\n",
       "      <td>Action|Adventure|Drama|Fantasy</td>\n",
       "    </tr>\n",
       "    <tr>\n",
       "      <th>4131</th>\n",
       "      <td>The Lord of the Rings: The Two Towers (2002)</td>\n",
       "      <td>4.021277</td>\n",
       "      <td>Adventure|Fantasy</td>\n",
       "    </tr>\n",
       "    <tr>\n",
       "      <th>3136</th>\n",
       "      <td>Memento (2000)</td>\n",
       "      <td>4.122642</td>\n",
       "      <td>Mystery|Thriller</td>\n",
       "    </tr>\n",
       "    <tr>\n",
       "      <th>6693</th>\n",
       "      <td>The Dark Knight (2008)</td>\n",
       "      <td>4.238255</td>\n",
       "      <td>Action|Crime|Drama|IMAX</td>\n",
       "    </tr>\n",
       "    <tr>\n",
       "      <th>2670</th>\n",
       "      <td>Gladiator (2000)</td>\n",
       "      <td>3.938235</td>\n",
       "      <td>Action|Adventure|Drama</td>\n",
       "    </tr>\n",
       "    <tr>\n",
       "      <th>3189</th>\n",
       "      <td>Shrek (2001)</td>\n",
       "      <td>3.867647</td>\n",
       "      <td>Adventure|Animation|Children|Comedy|Fantasy|Ro...</td>\n",
       "    </tr>\n",
       "    <tr>\n",
       "      <th>7355</th>\n",
       "      <td>Inception (2010)</td>\n",
       "      <td>4.066434</td>\n",
       "      <td>Action|Crime|Drama|Mystery|Sci-Fi|Thriller|IMAX</td>\n",
       "    </tr>\n",
       "    <tr>\n",
       "      <th>4900</th>\n",
       "      <td>Eternal Sunshine of the Spotless Mind (2004)</td>\n",
       "      <td>4.160305</td>\n",
       "      <td>Drama|Romance|Sci-Fi</td>\n",
       "    </tr>\n",
       "    <tr>\n",
       "      <th>4354</th>\n",
       "      <td>Finding Nemo (2003)</td>\n",
       "      <td>3.960993</td>\n",
       "      <td>Adventure|Animation|Children|Comedy</td>\n",
       "    </tr>\n",
       "  </tbody>\n",
       "</table>\n",
       "</div>"
      ],
      "text/plain": [
       "                                            Movie Title  Average Rating  \\\n",
       "3633  The Lord of the Rings: The Fellowship of the R...        4.106061   \n",
       "4791  The Lord of the Rings: The Return of the King ...        4.118919   \n",
       "4131       The Lord of the Rings: The Two Towers (2002)        4.021277   \n",
       "3136                                     Memento (2000)        4.122642   \n",
       "6693                             The Dark Knight (2008)        4.238255   \n",
       "2670                                   Gladiator (2000)        3.938235   \n",
       "3189                                       Shrek (2001)        3.867647   \n",
       "7355                                   Inception (2010)        4.066434   \n",
       "4900       Eternal Sunshine of the Spotless Mind (2004)        4.160305   \n",
       "4354                                Finding Nemo (2003)        3.960993   \n",
       "\n",
       "                                                 Genres  \n",
       "3633                                  Adventure|Fantasy  \n",
       "4791                     Action|Adventure|Drama|Fantasy  \n",
       "4131                                  Adventure|Fantasy  \n",
       "3136                                   Mystery|Thriller  \n",
       "6693                            Action|Crime|Drama|IMAX  \n",
       "2670                             Action|Adventure|Drama  \n",
       "3189  Adventure|Animation|Children|Comedy|Fantasy|Ro...  \n",
       "7355    Action|Crime|Drama|Mystery|Sci-Fi|Thriller|IMAX  \n",
       "4900                               Drama|Romance|Sci-Fi  \n",
       "4354                Adventure|Animation|Children|Comedy  "
      ]
     },
     "execution_count": 30,
     "metadata": {},
     "output_type": "execute_result"
    }
   ],
   "source": [
    "get_popular_recommendations(10, transform_genre_to_regex(genres), [2000, 2018])"
   ]
  },
  {
   "cell_type": "markdown",
   "metadata": {},
   "source": [
    "# Similarity-Based Recommender"
   ]
  },
  {
   "cell_type": "code",
   "execution_count": 10,
   "metadata": {},
   "outputs": [],
   "source": [
    "movie_user_matrix = (\n",
    "                ratings\n",
    "                    .merge(movies, on='movieId')[['title', 'rating', 'userId']]\n",
    "                    .pivot_table(index='title', columns='userId', values='rating')\n",
    "                    .fillna(0)\n",
    "                )\n",
    "similarities_movies = pd.DataFrame(cosine_similarity(movie_user_matrix),\n",
    "                                  index=movie_user_matrix.index,\n",
    "                                  columns=movie_user_matrix.index)"
   ]
  },
  {
   "cell_type": "code",
   "execution_count": 7,
   "metadata": {},
   "outputs": [],
   "source": [
    "def get_similar_recommendations(movie_title, n, genres, time_range):\n",
    "    \n",
    "    # select similarity for chosen movie\n",
    "    similarities = pd.DataFrame(\n",
    "        (similarities_movies.query(\"index != @movie_title\")[movie_title] / sum(similarities_movies.query(\"index != @movie_title\")[movie_title]))\n",
    "        .sort_values(ascending= False))\n",
    " \n",
    "    # exclude genres if necessary and return the n movies with the highest similarity\n",
    "    recommendations = (\n",
    "        similarities\n",
    "            .merge(movies, how= 'left', left_index = True, right_on = 'title')\n",
    "            [lambda df: df[\"genres\"].str.contains(genres, regex=True)]\n",
    "            .loc[lambda df : ((df['year'] >= time_range[0]) & ( df['year'] <= time_range[1]))]\n",
    "            .head(n)\n",
    "            [['title', 'genres']]\n",
    "            )\n",
    "            \n",
    "    recommendations.rename(columns= {'title': 'Movie Title', 'genres': 'Genres'}, inplace = True)\n",
    "\n",
    "    return recommendations"
   ]
  },
  {
   "cell_type": "code",
   "execution_count": 8,
   "metadata": {},
   "outputs": [],
   "source": [
    "movie_title = \"A Beautiful Mind (2001)\" \n",
    "n = 3\n",
    "genres = ''"
   ]
  },
  {
   "cell_type": "code",
   "execution_count": 11,
   "metadata": {},
   "outputs": [],
   "source": [
    "sample_output = get_similar_recommendations(movie_title, 3, '')"
   ]
  },
  {
   "cell_type": "code",
   "execution_count": 125,
   "metadata": {},
   "outputs": [],
   "source": [
    "def find_movie_title(user_input):\n",
    "    title_list = movies.title.unique()\n",
    "    \n",
    "    r = re.compile(f\".*{user_input}.*\")\n",
    "    result = []\n",
    "\n",
    "    for title in title_list:\n",
    "        match = r.findall(title)\n",
    "        if match:\n",
    "            result.append(match)\n",
    "    \n",
    "    return result[0][0]"
   ]
  },
  {
   "cell_type": "code",
   "execution_count": 126,
   "metadata": {},
   "outputs": [
    {
     "data": {
      "text/plain": [
       "'Matrix, The (1999)'"
      ]
     },
     "execution_count": 126,
     "metadata": {},
     "output_type": "execute_result"
    }
   ],
   "source": [
    "find_movie_title('Matrix')"
   ]
  },
  {
   "cell_type": "code",
   "execution_count": null,
   "metadata": {},
   "outputs": [],
   "source": [
    "def get_similar_recommendations_streaming(movie_title, n, genres, time_range, country, url, headers):\n",
    "\n",
    "    # select similarity for chosen movie\n",
    "    similarities = pd.DataFrame(\n",
    "        (similarities_movies.query(\"index != @movie_title\")[movie_title] / sum(similarities_movies.query(\"index != @movie_title\")[movie_title]))\n",
    "        .sort_values(ascending= False))\n",
    "\n",
    "    # exclude genres if necessary and return the n movies with the highest similarity\n",
    "    recommendations = (\n",
    "        similarities\n",
    "            .merge(movies, how= 'left', left_index = True, right_on = 'title')\n",
    "            [lambda df: df[\"genres\"].str.contains(genres, regex=True)]\n",
    "            .loc[lambda df : ((df['year'] >= time_range[0]) & ( df['year'] <= time_range[1]))]\n",
    "            .head(n)\n",
    "            [['title', 'genres', 'movieId']]\n",
    "            )\n",
    "\n",
    "    # merge recommendations with links df to get imdbIds for the API calls\n",
    "    recommendations_ids = recommendations.merge(links, how = 'left', on = 'movieId')[['title', 'genres', 'imdbId']]\n",
    "    recommendations_ids['imdbId'] = 'tt0' + recommendations_ids['imdbId'].astype('str')\n",
    "    imdb_ids = list(recommendations_ids['imdbId'])\n",
    "\n",
    "    # create new column for streaming links\n",
    "    recommendations_ids['Streaming Availability'] = \"\"\n",
    "\n",
    "    # loop through imdb_ids to make one api call for each to get available streaming links\n",
    "    for id in imdb_ids:\n",
    "\n",
    "        # make api call\n",
    "        querystring = {\"country\":country,\"imdb_id\":id,\"output_language\":\"en\"}\n",
    "        response = requests.request(\"GET\", url, headers=headers, params=querystring)\n",
    "        streaming_info = response.json()\n",
    "\n",
    "        for streaming_service in streaming_info['streamingInfo']:\n",
    "            recommendations_ids.loc[recommendations_ids['imdbId'] == id, 'Streaming Availability'] += f\"{streaming_service}: {streaming_info['streamingInfo'][streaming_service][country]['link']} \\n\" \n",
    "\n",
    "    recommendations_ids.rename(columns= {'title': 'Movie Title', 'genres': 'Genres'}, inplace = True)\n",
    "\n",
    "    return recommendations_ids[['Movie Title', 'Genres', 'Streaming Availability']]"
   ]
  },
  {
   "cell_type": "markdown",
   "metadata": {},
   "source": [
    "# User-Based Recommender"
   ]
  },
  {
   "cell_type": "code",
   "execution_count": 8,
   "metadata": {},
   "outputs": [],
   "source": [
    "# create \"database\" to use for recommendations\n",
    "user_item_matrix = all_ratings_pivoted.fillna(0)\n",
    "\n",
    "similarities_users = pd.DataFrame(cosine_similarity(user_item_matrix),\n",
    "                                  index=user_item_matrix.index,\n",
    "                                  columns=user_item_matrix.index)"
   ]
  },
  {
   "cell_type": "code",
   "execution_count": 9,
   "metadata": {},
   "outputs": [],
   "source": [
    "def get_user_recommendations(user_id, n):\n",
    "    \n",
    "    # calculate weights for ratings\n",
    "    weights = similarities_users.query(\"index != @user_id\")[user_id] / sum(similarities_users.query(\"index != @user_id\")[user_id])\n",
    "\n",
    "    # get unwatched movies for recommendations\n",
    "    unwatched_movies = user_item_matrix.loc[user_item_matrix.index != user_id, user_item_matrix.loc[user_id,:] == 0].T\n",
    "\n",
    "    # compute weighted averages and return the n movies with the highest predicted ratings\n",
    "    weighted_averages = pd.DataFrame(unwatched_movies.dot(weights), columns = [\"predicted_rating\"])\n",
    "    recommendations = weighted_averages.sort_values(\"predicted_rating\", ascending=False).head(n).index\n",
    "\n",
    "    return recommendations"
   ]
  },
  {
   "cell_type": "code",
   "execution_count": 58,
   "metadata": {},
   "outputs": [
    {
     "data": {
      "text/plain": [
       "Index(['Forrest Gump (1994)', 'Silence of the Lambs, The (1991)',\n",
       "       'Jurassic Park (1993)', 'Seven (a.k.a. Se7en) (1995)', 'Speed (1994)',\n",
       "       'Twelve Monkeys (a.k.a. 12 Monkeys) (1995)',\n",
       "       'Die Hard: With a Vengeance (1995)',\n",
       "       'Star Wars: Episode IV - A New Hope (1977)', 'Matrix, The (1999)',\n",
       "       'Independence Day (a.k.a. ID4) (1996)'],\n",
       "      dtype='object', name='title')"
      ]
     },
     "execution_count": 58,
     "metadata": {},
     "output_type": "execute_result"
    }
   ],
   "source": [
    "get_user_recommendations(5, 10)"
   ]
  },
  {
   "cell_type": "markdown",
   "metadata": {},
   "source": [
    "# Streaming API"
   ]
  },
  {
   "cell_type": "markdown",
   "metadata": {},
   "source": [
    "## notes\n",
    "\n",
    "* imdb-ids have \"tt0\" as prefix"
   ]
  },
  {
   "cell_type": "code",
   "execution_count": 20,
   "metadata": {},
   "outputs": [],
   "source": [
    "url = \"https://streaming-availability.p.rapidapi.com/get/basic\"\n",
    "\n",
    "querystring = {\"country\":\"de\",\"imdb_id\":\"tt0268978\",\"output_language\":\"en\"}\n",
    "\n",
    "headers = {\n",
    "\t\"X-RapidAPI-Key\": \"d3bf10e76bmshe58fc89e9aaa547p1c119cjsncdd51d83db32\",\n",
    "\t\"X-RapidAPI-Host\": \"streaming-availability.p.rapidapi.com\"\n",
    "}\n",
    "\n",
    "response = requests.request(\"GET\", url, headers=headers, params=querystring)"
   ]
  },
  {
   "cell_type": "code",
   "execution_count": 27,
   "metadata": {},
   "outputs": [],
   "source": [
    "country = 'de'\n",
    "streaming_platform = 'netflix'"
   ]
  },
  {
   "cell_type": "code",
   "execution_count": 21,
   "metadata": {},
   "outputs": [],
   "source": [
    "streaming_info = response.json()"
   ]
  },
  {
   "cell_type": "code",
   "execution_count": 44,
   "metadata": {},
   "outputs": [
    {
     "data": {
      "text/plain": [
       "{'netflix': {'de': {'link': 'https://www.netflix.com/title/60021793/',\n",
       "   'added': 1659998955,\n",
       "   'leaving': 0}},\n",
       " 'prime': {'de': {'link': 'https://www.amazon.de/gp/video/detail/0J3OTJNXZRY1JRCLCIMD37FKTZ/',\n",
       "   'added': 1636925663,\n",
       "   'leaving': 0}}}"
      ]
     },
     "execution_count": 44,
     "metadata": {},
     "output_type": "execute_result"
    }
   ],
   "source": [
    "streaming_info['streamingInfo']"
   ]
  },
  {
   "cell_type": "code",
   "execution_count": 108,
   "metadata": {},
   "outputs": [],
   "source": [
    "movie_title = \"A Beautiful Mind (2001)\" \n",
    "n = 3\n",
    "genres = ''\n",
    "\n",
    "# select similarity for chosen movie\n",
    "similarities = pd.DataFrame(\n",
    "    (similarities_movies.query(\"index != @movie_title\")[movie_title] / sum(similarities_movies.query(\"index != @movie_title\")[movie_title]))\n",
    "    .sort_values(ascending= False))\n",
    "\n",
    "# exclude genres if necessary and return the n movies with the highest similarity\n",
    "recommendations = (\n",
    "    similarities\n",
    "        .merge(movies, how= 'left', left_index = True, right_on = 'title')\n",
    "        [lambda df: df[\"genres\"].str.contains(genres, regex=True)]\n",
    "        .head(n)\n",
    "        [['title', 'genres', 'movieId']]\n",
    "        )\n",
    "\n",
    "# merge recommendations with links df to get imdbIds for the API calls\n",
    "recommendations_ids = recommendations.merge(links, how = 'left', on = 'movieId')[['title', 'genres', 'imdbId']]\n",
    "recommendations_ids['imdbId'] = 'tt0' + recommendations_ids['imdbId'].astype('str')\n",
    "imdb_ids = list(recommendations_ids['imdbId'])\n",
    "\n",
    "# create new column for streaming links\n",
    "recommendations_ids['Streaming Availability'] = \"\"\n",
    "\n",
    "# loop through imdb_ids to make one api call for each to get available streaming links\n",
    "for id in imdb_ids:\n",
    "\n",
    "    # make api call\n",
    "    querystring = {\"country\":country,\"imdb_id\":id,\"output_language\":\"en\"}\n",
    "    response = requests.request(\"GET\", url, headers=headers, params=querystring)\n",
    "    streaming_info = response.json()\n",
    "\n",
    "    for streaming_service in streaming_info['streamingInfo']:\n",
    "        recommendations_ids.loc[recommendations_ids['imdbId'] == id, 'Streaming Availability'] += f\"{streaming_service}: {streaming_info['streamingInfo'][streaming_service][country]['link']} \\n\"  "
   ]
  },
  {
   "cell_type": "code",
   "execution_count": 109,
   "metadata": {},
   "outputs": [],
   "source": [
    "for id in imdb_ids:\n",
    "\n",
    "    # make api call\n",
    "    querystring = {\"country\":country,\"imdb_id\":id,\"output_language\":\"en\"}\n",
    "    response = requests.request(\"GET\", url, headers=headers, params=querystring)\n",
    "    streaming_info = response.json()\n",
    "\n",
    "    for streaming_service in streaming_info['streamingInfo']:\n",
    "        recommendations_ids.loc[recommendations_ids['imdbId'] == id, 'Streaming Availability'] += f\"{streaming_service}: {streaming_info['streamingInfo'][streaming_service][country]['link']} \\n\"  "
   ]
  },
  {
   "cell_type": "code",
   "execution_count": 107,
   "metadata": {},
   "outputs": [],
   "source": [
    "for id in imdb_ids:\n",
    "\n",
    "    test_list= [1 , 2 , 3]\n",
    "\n",
    "    for streaming_service in test_list:\n",
    "        recommendations_ids.loc[recommendations_ids['imdbId'] == id, 'Streaming Availability'] += f\"{streaming_service}: {streaming_service} \\n\" "
   ]
  },
  {
   "cell_type": "code",
   "execution_count": 61,
   "metadata": {},
   "outputs": [],
   "source": [
    "recommendations_ids['Streaming Availability'] = \"\"\n",
    "\n",
    "for streaming_service in streaming_info['streamingInfo']:\n",
    "    sample_output['Streaming Availability'] += f\"{streaming_service}: {streaming_info['streamingInfo'][streaming_service][country]['link']} \\n\"  "
   ]
  },
  {
   "cell_type": "code",
   "execution_count": 29,
   "metadata": {},
   "outputs": [
    {
     "data": {
      "text/plain": [
       "'https://www.netflix.com/title/60021793/'"
      ]
     },
     "execution_count": 29,
     "metadata": {},
     "output_type": "execute_result"
    }
   ],
   "source": [
    "streaming_info['streamingInfo'][streaming_platform][country]['link']"
   ]
  },
  {
   "cell_type": "code",
   "execution_count": 19,
   "metadata": {},
   "outputs": [
    {
     "data": {
      "text/html": [
       "<div>\n",
       "<style scoped>\n",
       "    .dataframe tbody tr th:only-of-type {\n",
       "        vertical-align: middle;\n",
       "    }\n",
       "\n",
       "    .dataframe tbody tr th {\n",
       "        vertical-align: top;\n",
       "    }\n",
       "\n",
       "    .dataframe thead th {\n",
       "        text-align: right;\n",
       "    }\n",
       "</style>\n",
       "<table border=\"1\" class=\"dataframe\">\n",
       "  <thead>\n",
       "    <tr style=\"text-align: right;\">\n",
       "      <th></th>\n",
       "      <th>movieId</th>\n",
       "      <th>title</th>\n",
       "      <th>genres</th>\n",
       "      <th>imdbId</th>\n",
       "      <th>tmdbId</th>\n",
       "    </tr>\n",
       "  </thead>\n",
       "  <tbody>\n",
       "    <tr>\n",
       "      <th>3640</th>\n",
       "      <td>4995</td>\n",
       "      <td>A Beautiful Mind (2001)</td>\n",
       "      <td>Drama|Romance</td>\n",
       "      <td>268978</td>\n",
       "      <td>453.0</td>\n",
       "    </tr>\n",
       "  </tbody>\n",
       "</table>\n",
       "</div>"
      ],
      "text/plain": [
       "      movieId                    title         genres  imdbId  tmdbId\n",
       "3640     4995  A Beautiful Mind (2001)  Drama|Romance  268978   453.0"
      ]
     },
     "execution_count": 19,
     "metadata": {},
     "output_type": "execute_result"
    }
   ],
   "source": [
    "movies.merge(links, how= 'left', on= 'movieId').loc[lambda df: df['title'].str.contains('Beautiful Mind')]"
   ]
  }
 ],
 "metadata": {
  "kernelspec": {
   "display_name": "Python 3.9.5",
   "language": "python",
   "name": "python3"
  },
  "language_info": {
   "codemirror_mode": {
    "name": "ipython",
    "version": 3
   },
   "file_extension": ".py",
   "mimetype": "text/x-python",
   "name": "python",
   "nbconvert_exporter": "python",
   "pygments_lexer": "ipython3",
   "version": "3.9.5"
  },
  "orig_nbformat": 4,
  "vscode": {
   "interpreter": {
    "hash": "f32269641e17bf27d9ca909c2404938da1b1b2df6b9d3f5a88a1b877c863c5b8"
   }
  }
 },
 "nbformat": 4,
 "nbformat_minor": 2
}
